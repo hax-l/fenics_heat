{
 "cells": [
  {
   "cell_type": "code",
   "execution_count": null,
   "metadata": {},
   "outputs": [
    {
     "name": "stdout",
     "output_type": "stream",
     "text": [
      "/usr/bin/python3\n"
     ]
    }
   ],
   "source": [
    "\"\"\"A beam deforming under its own weight.\"\"\"\n",
    "\n",
    "from dolfin import *\n",
    "\n",
    "import sys\n",
    "print(sys.executable)\n",
    "\n",
    "# Scaled variables\n",
    "l, w = 1, 0.1\n",
    "mu_, lambda_ = 1, 1\n",
    "rho = 10\n",
    "gamma = (w/l)**2\n",
    "wind = (0, 0.0, 0)\n",
    "\n",
    "# Create mesh and define function space\n",
    "mesh = BoxMesh(Point(0, 0, 0), Point(l, w, w), 50, 5, 5)\n",
    "V = VectorFunctionSpace(mesh, \"P\", 1)\n",
    "\n",
    "# Define boundary condition\n",
    "def clamped_boundary(x, on_boundary):\n",
    "    return on_boundary and (near(x[0], 0) or near(x[0], l))\n",
    "bc = DirichletBC(V, Constant((0, 0, 0)), clamped_boundary)\n",
    "\n",
    "# Define strain and stress\n",
    "def epsilon(u):\n",
    "    return 0.5 * (nabla_grad(u) + nabla_grad(u).T)\n",
    "\n",
    "def sigma(u):\n",
    "    return lambda_ * nabla_grad(u) * Identity(3) + 2 * mu_ * epsilon(u)\n",
    "\n",
    "\n",
    "# Define variational problem\n",
    "u = TrialFunction(V)\n",
    "v = TestFunction(V)\n",
    "f = Constant((0, 0, -rho * gamma))\n",
    "T = Constant(wind)\n",
    "a = inner(sigma(u), epsilon(v)) * dx\n",
    "L = dot(f, v) * dx + dot(T, v) * ds\n",
    "\n",
    "# Compute solution\n",
    "u = Function(V)\n",
    "solve(a == L, u, bc)\n",
    "\n",
    "s = sigma(u) - (1.0 / 3) * tr(sigma(u)) * Identity(3)  # deviatoric stress\n",
    "von_Mises = sqrt(3.0 / 2 * inner(s, s))\n",
    "V = FunctionSpace(mesh, \"P\", 1)\n",
    "von_Mises = project(von_Mises, V)\n",
    "u_magnitude = sqrt(dot(u, u))\n",
    "u_magnitude = project(u_magnitude, V)\n",
    "\n",
    "################################ Plot solution\n",
    "from vedo.dolfin import *\n",
    "\n",
    "plot(u, mode=\"displaced mesh\",\n",
    "     text=__doc__,\n",
    "     scalarbar=False,\n",
    "     axes=1,\n",
    "     viewup='z')\n",
    "#exportWindow('elasticbeam1.x3d') # generate a html test page\n",
    "\n",
    "txt = Text3D(\"Von Mises stress intensity\", pos=(0.1,.12,0), s=0.03, c='white')\n",
    "plot(von_Mises, txt, cmap='plasma', scalarbar=False, new=True)\n",
    "#exportWindow('elasticbeam2.x3d') # generate a html test page\n",
    "\n",
    "txt = Text3D(\"Magnitude of displacement\", pos=(0.1,.12,0), s=0.03, c='white')\n",
    "plot(u_magnitude, txt, scalarbar=False, new=True)\n",
    "#exportWindow('elasticbeam3.x3d') # generate a html test page"
   ]
  },
  {
   "cell_type": "code",
   "execution_count": null,
   "metadata": {},
   "outputs": [],
   "source": []
  }
 ],
 "metadata": {
  "kernelspec": {
   "display_name": "Python 3",
   "language": "python",
   "name": "python3"
  },
  "language_info": {
   "codemirror_mode": {
    "name": "ipython",
    "version": 3
   },
   "file_extension": ".py",
   "mimetype": "text/x-python",
   "name": "python",
   "nbconvert_exporter": "python",
   "pygments_lexer": "ipython3",
   "version": "3.6.9"
  }
 },
 "nbformat": 4,
 "nbformat_minor": 4
}
