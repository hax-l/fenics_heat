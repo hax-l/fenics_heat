{
 "cells": [
  {
   "cell_type": "code",
   "execution_count": 12,
   "id": "2ec38ba3-9434-4408-984d-9a87b7c64e7c",
   "metadata": {},
   "outputs": [],
   "source": [
    "import numpy as np\n",
    "import ufl\n",
    "\n",
    "from mpi4py import MPI\n",
    "from petsc4py.PETSc import ScalarType\n",
    "\n",
    "from dolfinx import mesh, fem, plot, io\n",
    "\n",
    "# Scaled variable\n",
    "L = 1\n",
    "W = 0.2\n",
    "\n",
    "domain = mesh.create_box(MPI.COMM_WORLD, [np.array([0,0,0]), np.array([L, W, W])],\n",
    "                  [20,6,6], cell_type=mesh.CellType.hexahedron)\n",
    "V = fem.VectorFunctionSpace(domain, (\"CG\", 1))"
   ]
  },
  {
   "cell_type": "code",
   "execution_count": 13,
   "id": "f097d673-e6b0-471f-9955-c664a068e6e4",
   "metadata": {},
   "outputs": [],
   "source": [
    "def clamped_boundary(x):\n",
    "    return np.isclose(x[0], 0)\n",
    "\n",
    "fdim = domain.topology.dim - 1\n",
    "boundary_facets = mesh.locate_entities_boundary(domain, fdim, clamped_boundary)\n",
    "\n",
    "u_D = np.array([0,0,0], dtype=ScalarType)\n",
    "bc = fem.dirichletbc(u_D, fem.locate_dofs_topological(V, fdim, boundary_facets), V)"
   ]
  },
  {
   "cell_type": "code",
   "execution_count": 14,
   "id": "3510a630-4719-4992-a3a4-7092cbab4f41",
   "metadata": {},
   "outputs": [],
   "source": [
    "T = fem.Constant(domain, ScalarType((0, 0, 0)))\n",
    "ds = ufl.Measure(\"ds\", domain=domain)\n"
   ]
  },
  {
   "cell_type": "code",
   "execution_count": 15,
   "id": "0846d711-17ba-4071-ba37-13d062caa7b3",
   "metadata": {},
   "outputs": [
    {
     "ename": "NameError",
     "evalue": "name 'dt' is not defined",
     "output_type": "error",
     "traceback": [
      "\u001b[0;31m---------------------------------------------------------------------------\u001b[0m",
      "\u001b[0;31mNameError\u001b[0m                                 Traceback (most recent call last)",
      "Input \u001b[0;32mIn [15]\u001b[0m, in \u001b[0;36m<cell line: 20>\u001b[0;34m()\u001b[0m\n\u001b[1;32m     14\u001b[0m v \u001b[38;5;241m=\u001b[39m ufl\u001b[38;5;241m.\u001b[39mTestFunction(V)\n\u001b[1;32m     15\u001b[0m \u001b[38;5;66;03m# f = fem.Constant(domain, ScalarType((0, 0, -rho*g)))\u001b[39;00m\n\u001b[1;32m     16\u001b[0m \u001b[38;5;66;03m# a = ufl.inner(sigma(u), epsilon(v)) * ufl.dx\u001b[39;00m\n\u001b[1;32m     17\u001b[0m \u001b[38;5;66;03m# L = ufl.dot(f, v) * ufl.dx + ufl.dot(T, v) * ds\u001b[39;00m\n\u001b[0;32m---> 20\u001b[0m F_heat \u001b[38;5;241m=\u001b[39m ufl\u001b[38;5;241m.\u001b[39minner(u,v)\u001b[38;5;241m*\u001b[39mufl\u001b[38;5;241m.\u001b[39mdx \u001b[38;5;241m+\u001b[39m \u001b[43mdt\u001b[49m\u001b[38;5;241m*\u001b[39mufl\u001b[38;5;241m.\u001b[39mdot(grad(u), ufl\u001b[38;5;241m.\u001b[39mgrad(v))\u001b[38;5;241m*\u001b[39mdx \u001b[38;5;241m-\u001b[39m (u_n \u001b[38;5;241m+\u001b[39m dt\u001b[38;5;241m*\u001b[39mf)\u001b[38;5;241m*\u001b[39mv\u001b[38;5;241m*\u001b[39mdx\n\u001b[1;32m     21\u001b[0m a, L \u001b[38;5;241m=\u001b[39m lhs(F), rhs(F)\n",
      "\u001b[0;31mNameError\u001b[0m: name 'dt' is not defined"
     ]
    }
   ],
   "source": [
    "# def epsilon(u):\n",
    "#     return ufl.sym(ufl.grad(u)) # Equivalent to 0.5*(ufl.nabla_grad(u) + ufl.nabla_grad(u).T)\n",
    "# def sigma(u):\n",
    "#     return lambda_ * ufl.nabla_div(u) * ufl.Identity(u.geometric_dimension()) + 2*mu*epsilon(u)\n",
    "\n",
    "alpha = 6          # parameter alpha\n",
    "beta = 1.2         # parameter beta\n",
    "\n",
    "\n",
    "f_heat = fem.Constant(domain, ScalarType(beta - 2 - 2*alpha))\n",
    "\n",
    "\n",
    "u = ufl.TrialFunction(V)\n",
    "v = ufl.TestFunction(V)\n",
    "# f = fem.Constant(domain, ScalarType((0, 0, -rho*g)))\n",
    "# a = ufl.inner(sigma(u), epsilon(v)) * ufl.dx\n",
    "# L = ufl.dot(f, v) * ufl.dx + ufl.dot(T, v) * ds\n",
    "\n",
    "\n",
    "F_heat = ufl.inner(u,v)*ufl.dx + dt*ufl.dot(grad(u), ufl.grad(v))*dx - (u_n + dt*f)*v*dx\n",
    "a, L = lhs(F), rhs(F)\n"
   ]
  },
  {
   "cell_type": "code",
   "execution_count": 9,
   "id": "bd74e396-78ea-4ca2-902b-cc0b3ac15481",
   "metadata": {},
   "outputs": [
    {
     "ename": "NameError",
     "evalue": "name 'a' is not defined",
     "output_type": "error",
     "traceback": [
      "\u001b[0;31m---------------------------------------------------------------------------\u001b[0m",
      "\u001b[0;31mNameError\u001b[0m                                 Traceback (most recent call last)",
      "Input \u001b[0;32mIn [9]\u001b[0m, in \u001b[0;36m<cell line: 1>\u001b[0;34m()\u001b[0m\n\u001b[0;32m----> 1\u001b[0m problem \u001b[38;5;241m=\u001b[39m fem\u001b[38;5;241m.\u001b[39mpetsc\u001b[38;5;241m.\u001b[39mLinearProblem(\u001b[43ma\u001b[49m, L, bcs\u001b[38;5;241m=\u001b[39m[bc], petsc_options\u001b[38;5;241m=\u001b[39m{\u001b[38;5;124m\"\u001b[39m\u001b[38;5;124mksp_type\u001b[39m\u001b[38;5;124m\"\u001b[39m: \u001b[38;5;124m\"\u001b[39m\u001b[38;5;124mpreonly\u001b[39m\u001b[38;5;124m\"\u001b[39m, \u001b[38;5;124m\"\u001b[39m\u001b[38;5;124mpc_type\u001b[39m\u001b[38;5;124m\"\u001b[39m: \u001b[38;5;124m\"\u001b[39m\u001b[38;5;124mlu\u001b[39m\u001b[38;5;124m\"\u001b[39m})\n\u001b[1;32m      2\u001b[0m uh \u001b[38;5;241m=\u001b[39m problem\u001b[38;5;241m.\u001b[39msolve()\n",
      "\u001b[0;31mNameError\u001b[0m: name 'a' is not defined"
     ]
    }
   ],
   "source": [
    "problem = fem.petsc.LinearProblem(a, L, bcs=[bc], petsc_options={\"ksp_type\": \"preonly\", \"pc_type\": \"lu\"})\n",
    "uh = problem.solve()"
   ]
  },
  {
   "cell_type": "code",
   "execution_count": null,
   "id": "d805c8d6-c31c-4bba-9a6f-1543e4bee398",
   "metadata": {},
   "outputs": [],
   "source": []
  }
 ],
 "metadata": {
  "kernelspec": {
   "display_name": "Python 3 (DOLFINx complex)",
   "language": "python",
   "name": "python3-complex"
  },
  "language_info": {
   "codemirror_mode": {
    "name": "ipython",
    "version": 3
   },
   "file_extension": ".py",
   "mimetype": "text/x-python",
   "name": "python",
   "nbconvert_exporter": "python",
   "pygments_lexer": "ipython3",
   "version": "3.9.7"
  }
 },
 "nbformat": 4,
 "nbformat_minor": 5
}
