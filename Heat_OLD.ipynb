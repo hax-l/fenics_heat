{
 "cells": [
  {
   "cell_type": "markdown",
   "metadata": {},
   "source": [
    "## Heat  equation with Dirichlet conditions\n",
    "FEniCS tutorial demo program: Heat equation with Dirichlet conditions.\n",
    "Test problem is chosen to give an exact solution at all nodes of the mesh.\n",
    "\n",
    "  u'= Laplace(u) + f  in the unit square<br />\n",
    "  u = u_D             on the boundary<br />\n",
    "  u = u_0             at t = 0<br />\n",
    "\n",
    "  u = 1 + x^2 + alpha*y^2 + beta * t <br />\n",
    "  f = beta - 2 - 2*alpha"
   ]
  },
  {
   "cell_type": "code",
   "execution_count": 8,
   "metadata": {},
   "outputs": [],
   "source": [
    "import numpy as np\n",
    "import ufl\n",
    "\n",
    "from mpi4py import MPI\n",
    "from petsc4py import PETSc\n",
    "\n",
    "from dolfinx import fem, mesh, io, plot\n"
   ]
  },
  {
   "cell_type": "markdown",
   "metadata": {},
   "source": [
    "### User params && mesh definitions"
   ]
  },
  {
   "cell_type": "code",
   "execution_count": 23,
   "metadata": {},
   "outputs": [],
   "source": [
    "T = 2.0            # final time\n",
    "num_steps = 10     # number of time steps\n",
    "dt = T / num_steps # time step size\n",
    "alpha = 6          # parameter alpha\n",
    "beta = 1.2         # parameter beta\n",
    "\n",
    "# Create mesh and define function space\n",
    "\n",
    "# Define mesh\n",
    "nx = ny = 8\n",
    "domain = mesh.create_rectangle(MPI.COMM_WORLD, [np.array([-2, -2]), np.array([2, 2])], \n",
    "                               [nx, ny], mesh.CellType.triangle)\n",
    "V = fem.FunctionSpace(domain, (\"CG\", 1))\n",
    "\n",
    "\n",
    "# mesh = UnitSquareMesh(nx, ny)\n",
    "# V = ufl.FunctionSpace(mesh, 'P', 1)\n",
    "\n",
    "# Define boundary condition\n",
    "u_D = fem.Function(V)\n",
    "t = 0\n",
    "u_D.interpolate(lambda x: 1 + x[0]**2 + alpha * x[1]**2 + beta *t )\n",
    "# u_D = Expression('1 + x[0]*x[0] + alpha*x[1]*x[1] + beta*t',\n",
    "                 # alpha=alpha, beta=beta, t=0)\n",
    "\n",
    "    \n",
    "    \n",
    "# initial condition\n",
    "def initial_condition(x):\n",
    "    return 1 + x[0]*x[0] + 6*x[1]*x[1]\n",
    "u_n = fem.Function(V)\n",
    "u_n.name = \"u_n\"\n",
    "u_n.interpolate(initial_condition)\n",
    "    \n",
    "def boundary(x, on_boundary):\n",
    "    return on_boundary\n",
    "\n",
    "def clamped_boundary(x):\n",
    "    return np.isclose(x[0], 0)\n",
    "\n",
    "fdim = domain.topology.dim - 1\n",
    "boundary_facets = mesh.locate_entities_boundary(\n",
    "    domain, fdim, lambda x: np.full(x.shape[1], True, dtype=bool))\n",
    "bc = fem.dirichletbc(PETSc.ScalarType(0), fem.locate_dofs_topological(V, fdim, boundary_facets), V)\n",
    "# boundary_facets = mesh.locate_entities_boundary(domain, fdim, clamped_boundary)\n",
    "\n",
    "\n",
    "# bc = DirichletBC(V, u_D, boundary)\n",
    "# bc = fem.dirichletbc(u_D, fem.locate_dofs_topological(V, fdim, boundary_facets), V)\n"
   ]
  },
  {
   "cell_type": "markdown",
   "metadata": {},
   "source": [
    "### Variational definition of the heat equation"
   ]
  },
  {
   "cell_type": "code",
   "execution_count": 50,
   "metadata": {},
   "outputs": [
    {
     "ename": "ArityMismatch",
     "evalue": "Adding expressions with non-matching form arguments ('v_0',) vs ('v_0', 'v_1').",
     "output_type": "error",
     "traceback": [
      "\u001b[0;31m---------------------------------------------------------------------------\u001b[0m",
      "\u001b[0;31mArityMismatch\u001b[0m                             Traceback (most recent call last)",
      "Input \u001b[0;32mIn [50]\u001b[0m, in \u001b[0;36m<cell line: 17>\u001b[0;34m()\u001b[0m\n\u001b[1;32m     13\u001b[0m \u001b[38;5;66;03m# a = u*v*ufl.dx - u_n*v*ufl.dx \u001b[39;00m\n\u001b[1;32m     14\u001b[0m \u001b[38;5;66;03m# L = (ufl.inner(f,v) - ufl.dot(ufl.grad(u), ufl.grad(v)) )* dt * ufl.dx\u001b[39;00m\n\u001b[1;32m     15\u001b[0m F \u001b[38;5;241m=\u001b[39m u\u001b[38;5;241m*\u001b[39mv\u001b[38;5;241m*\u001b[39mufl\u001b[38;5;241m.\u001b[39mdx \u001b[38;5;241m+\u001b[39m dt\u001b[38;5;241m*\u001b[39mufl\u001b[38;5;241m.\u001b[39mdot(ufl\u001b[38;5;241m.\u001b[39mgrad(u), ufl\u001b[38;5;241m.\u001b[39mgrad(v))\u001b[38;5;241m*\u001b[39mufl\u001b[38;5;241m.\u001b[39mdx \u001b[38;5;241m-\u001b[39m (u_n \u001b[38;5;241m+\u001b[39m dt\u001b[38;5;241m*\u001b[39mf)\u001b[38;5;241m*\u001b[39mv\u001b[38;5;241m*\u001b[39mufl\u001b[38;5;241m.\u001b[39mdx\n\u001b[0;32m---> 17\u001b[0m problem \u001b[38;5;241m=\u001b[39m \u001b[43mfem\u001b[49m\u001b[38;5;241;43m.\u001b[39;49m\u001b[43mpetsc\u001b[49m\u001b[38;5;241;43m.\u001b[39;49m\u001b[43mNonlinearProblem\u001b[49m\u001b[43m(\u001b[49m\u001b[43mF\u001b[49m\u001b[43m,\u001b[49m\u001b[43m \u001b[49m\u001b[43mu\u001b[49m\u001b[43m,\u001b[49m\u001b[43m \u001b[49m\u001b[43m[\u001b[49m\u001b[43mbc\u001b[49m\u001b[43m]\u001b[49m\u001b[43m)\u001b[49m\n",
      "File \u001b[0;32m/usr/local/dolfinx-real/lib/python3.8/dist-packages/dolfinx/fem/petsc.py:622\u001b[0m, in \u001b[0;36mNonlinearProblem.__init__\u001b[0;34m(self, F, u, bcs, J, form_compiler_params, jit_params)\u001b[0m\n\u001b[1;32m    600\u001b[0m \u001b[38;5;28;01mdef\u001b[39;00m \u001b[38;5;21m__init__\u001b[39m(\u001b[38;5;28mself\u001b[39m, F: ufl\u001b[38;5;241m.\u001b[39mform\u001b[38;5;241m.\u001b[39mForm, u: _Function, bcs: typing\u001b[38;5;241m.\u001b[39mList[DirichletBCMetaClass] \u001b[38;5;241m=\u001b[39m [],\n\u001b[1;32m    601\u001b[0m              J: ufl\u001b[38;5;241m.\u001b[39mform\u001b[38;5;241m.\u001b[39mForm \u001b[38;5;241m=\u001b[39m \u001b[38;5;28;01mNone\u001b[39;00m, form_compiler_params\u001b[38;5;241m=\u001b[39m{}, jit_params\u001b[38;5;241m=\u001b[39m{}):\n\u001b[1;32m    602\u001b[0m     \u001b[38;5;124;03m\"\"\"Initialize solver for solving a non-linear problem using Newton's method, :math:`dF/du(u) du = -F(u)`.\u001b[39;00m\n\u001b[1;32m    603\u001b[0m \n\u001b[1;32m    604\u001b[0m \u001b[38;5;124;03m    Args:\u001b[39;00m\n\u001b[0;32m   (...)\u001b[0m\n\u001b[1;32m    620\u001b[0m \n\u001b[1;32m    621\u001b[0m \u001b[38;5;124;03m    \"\"\"\u001b[39;00m\n\u001b[0;32m--> 622\u001b[0m     \u001b[38;5;28mself\u001b[39m\u001b[38;5;241m.\u001b[39m_L \u001b[38;5;241m=\u001b[39m \u001b[43m_create_form\u001b[49m\u001b[43m(\u001b[49m\u001b[43mF\u001b[49m\u001b[43m,\u001b[49m\u001b[43m \u001b[49m\u001b[43mform_compiler_params\u001b[49m\u001b[38;5;241;43m=\u001b[39;49m\u001b[43mform_compiler_params\u001b[49m\u001b[43m,\u001b[49m\n\u001b[1;32m    623\u001b[0m \u001b[43m                           \u001b[49m\u001b[43mjit_params\u001b[49m\u001b[38;5;241;43m=\u001b[39;49m\u001b[43mjit_params\u001b[49m\u001b[43m)\u001b[49m\n\u001b[1;32m    625\u001b[0m     \u001b[38;5;66;03m# Create the Jacobian matrix, dF/du\u001b[39;00m\n\u001b[1;32m    626\u001b[0m     \u001b[38;5;28;01mif\u001b[39;00m J \u001b[38;5;129;01mis\u001b[39;00m \u001b[38;5;28;01mNone\u001b[39;00m:\n",
      "File \u001b[0;32m/usr/local/dolfinx-real/lib/python3.8/dist-packages/dolfinx/fem/forms.py:139\u001b[0m, in \u001b[0;36mform\u001b[0;34m(form, dtype, form_compiler_params, jit_params)\u001b[0m\n\u001b[1;32m    136\u001b[0m         \u001b[38;5;28;01mreturn\u001b[39;00m \u001b[38;5;28mlist\u001b[39m(\u001b[38;5;28mmap\u001b[39m(\u001b[38;5;28;01mlambda\u001b[39;00m sub_form: _create_form(sub_form), form))\n\u001b[1;32m    137\u001b[0m     \u001b[38;5;28;01mreturn\u001b[39;00m form\n\u001b[0;32m--> 139\u001b[0m \u001b[38;5;28;01mreturn\u001b[39;00m \u001b[43m_create_form\u001b[49m\u001b[43m(\u001b[49m\u001b[43mform\u001b[49m\u001b[43m)\u001b[49m\n",
      "File \u001b[0;32m/usr/local/dolfinx-real/lib/python3.8/dist-packages/dolfinx/fem/forms.py:134\u001b[0m, in \u001b[0;36mform.<locals>._create_form\u001b[0;34m(form)\u001b[0m\n\u001b[1;32m    131\u001b[0m \u001b[38;5;124;03m\"\"\"Recursively convert ufl.Forms to dolfinx.fem.Form, otherwise\u001b[39;00m\n\u001b[1;32m    132\u001b[0m \u001b[38;5;124;03mreturn form argument\"\"\"\u001b[39;00m\n\u001b[1;32m    133\u001b[0m \u001b[38;5;28;01mif\u001b[39;00m \u001b[38;5;28misinstance\u001b[39m(form, ufl\u001b[38;5;241m.\u001b[39mForm):\n\u001b[0;32m--> 134\u001b[0m     \u001b[38;5;28;01mreturn\u001b[39;00m \u001b[43m_form\u001b[49m\u001b[43m(\u001b[49m\u001b[43mform\u001b[49m\u001b[43m)\u001b[49m\n\u001b[1;32m    135\u001b[0m \u001b[38;5;28;01melif\u001b[39;00m \u001b[38;5;28misinstance\u001b[39m(form, collections\u001b[38;5;241m.\u001b[39mabc\u001b[38;5;241m.\u001b[39mIterable):\n\u001b[1;32m    136\u001b[0m     \u001b[38;5;28;01mreturn\u001b[39;00m \u001b[38;5;28mlist\u001b[39m(\u001b[38;5;28mmap\u001b[39m(\u001b[38;5;28;01mlambda\u001b[39;00m sub_form: _create_form(sub_form), form))\n",
      "File \u001b[0;32m/usr/local/dolfinx-real/lib/python3.8/dist-packages/dolfinx/fem/forms.py:108\u001b[0m, in \u001b[0;36mform.<locals>._form\u001b[0;34m(form)\u001b[0m\n\u001b[1;32m    105\u001b[0m \u001b[38;5;28;01mif\u001b[39;00m mesh \u001b[38;5;129;01mis\u001b[39;00m \u001b[38;5;28;01mNone\u001b[39;00m:\n\u001b[1;32m    106\u001b[0m     \u001b[38;5;28;01mraise\u001b[39;00m \u001b[38;5;167;01mRuntimeError\u001b[39;00m(\u001b[38;5;124m\"\u001b[39m\u001b[38;5;124mExpecting to find a Mesh in the form.\u001b[39m\u001b[38;5;124m\"\u001b[39m)\n\u001b[0;32m--> 108\u001b[0m ufcx_form, module, code \u001b[38;5;241m=\u001b[39m \u001b[43mjit\u001b[49m\u001b[38;5;241;43m.\u001b[39;49m\u001b[43mffcx_jit\u001b[49m\u001b[43m(\u001b[49m\u001b[43mmesh\u001b[49m\u001b[38;5;241;43m.\u001b[39;49m\u001b[43mcomm\u001b[49m\u001b[43m,\u001b[49m\u001b[43m \u001b[49m\u001b[43mform\u001b[49m\u001b[43m,\u001b[49m\n\u001b[1;32m    109\u001b[0m \u001b[43m                                       \u001b[49m\u001b[43mform_compiler_params\u001b[49m\u001b[38;5;241;43m=\u001b[39;49m\u001b[43mform_compiler_params\u001b[49m\u001b[43m,\u001b[49m\n\u001b[1;32m    110\u001b[0m \u001b[43m                                       \u001b[49m\u001b[43mjit_params\u001b[49m\u001b[38;5;241;43m=\u001b[39;49m\u001b[43mjit_params\u001b[49m\u001b[43m)\u001b[49m\n\u001b[1;32m    112\u001b[0m \u001b[38;5;66;03m# For each argument in form extract its function space\u001b[39;00m\n\u001b[1;32m    113\u001b[0m V \u001b[38;5;241m=\u001b[39m [arg\u001b[38;5;241m.\u001b[39mufl_function_space()\u001b[38;5;241m.\u001b[39m_cpp_object \u001b[38;5;28;01mfor\u001b[39;00m arg \u001b[38;5;129;01min\u001b[39;00m form\u001b[38;5;241m.\u001b[39marguments()]\n",
      "File \u001b[0;32m/usr/local/dolfinx-real/lib/python3.8/dist-packages/dolfinx/jit.py:56\u001b[0m, in \u001b[0;36mmpi_jit_decorator.<locals>.mpi_jit\u001b[0;34m(comm, *args, **kwargs)\u001b[0m\n\u001b[1;32m     51\u001b[0m \u001b[38;5;129m@functools\u001b[39m\u001b[38;5;241m.\u001b[39mwraps(local_jit)\n\u001b[1;32m     52\u001b[0m \u001b[38;5;28;01mdef\u001b[39;00m \u001b[38;5;21mmpi_jit\u001b[39m(comm, \u001b[38;5;241m*\u001b[39margs, \u001b[38;5;241m*\u001b[39m\u001b[38;5;241m*\u001b[39mkwargs):\n\u001b[1;32m     53\u001b[0m \n\u001b[1;32m     54\u001b[0m     \u001b[38;5;66;03m# Just call JIT compiler when running in serial\u001b[39;00m\n\u001b[1;32m     55\u001b[0m     \u001b[38;5;28;01mif\u001b[39;00m comm\u001b[38;5;241m.\u001b[39msize \u001b[38;5;241m==\u001b[39m \u001b[38;5;241m1\u001b[39m:\n\u001b[0;32m---> 56\u001b[0m         \u001b[38;5;28;01mreturn\u001b[39;00m \u001b[43mlocal_jit\u001b[49m\u001b[43m(\u001b[49m\u001b[38;5;241;43m*\u001b[39;49m\u001b[43margs\u001b[49m\u001b[43m,\u001b[49m\u001b[43m \u001b[49m\u001b[38;5;241;43m*\u001b[39;49m\u001b[38;5;241;43m*\u001b[39;49m\u001b[43mkwargs\u001b[49m\u001b[43m)\u001b[49m\n\u001b[1;32m     58\u001b[0m     \u001b[38;5;66;03m# Default status (0 == ok, 1 == fail)\u001b[39;00m\n\u001b[1;32m     59\u001b[0m     status \u001b[38;5;241m=\u001b[39m \u001b[38;5;241m0\u001b[39m\n",
      "File \u001b[0;32m/usr/local/dolfinx-real/lib/python3.8/dist-packages/dolfinx/jit.py:204\u001b[0m, in \u001b[0;36mffcx_jit\u001b[0;34m(ufl_object, form_compiler_params, jit_params)\u001b[0m\n\u001b[1;32m    202\u001b[0m \u001b[38;5;66;03m# Switch on type and compile, returning cffi object\u001b[39;00m\n\u001b[1;32m    203\u001b[0m \u001b[38;5;28;01mif\u001b[39;00m \u001b[38;5;28misinstance\u001b[39m(ufl_object, ufl\u001b[38;5;241m.\u001b[39mForm):\n\u001b[0;32m--> 204\u001b[0m     r \u001b[38;5;241m=\u001b[39m \u001b[43mffcx\u001b[49m\u001b[38;5;241;43m.\u001b[39;49m\u001b[43mcodegeneration\u001b[49m\u001b[38;5;241;43m.\u001b[39;49m\u001b[43mjit\u001b[49m\u001b[38;5;241;43m.\u001b[39;49m\u001b[43mcompile_forms\u001b[49m\u001b[43m(\u001b[49m\u001b[43m[\u001b[49m\u001b[43mufl_object\u001b[49m\u001b[43m]\u001b[49m\u001b[43m,\u001b[49m\u001b[43m \u001b[49m\u001b[43mparameters\u001b[49m\u001b[38;5;241;43m=\u001b[39;49m\u001b[43mp_ffcx\u001b[49m\u001b[43m,\u001b[49m\u001b[43m \u001b[49m\u001b[38;5;241;43m*\u001b[39;49m\u001b[38;5;241;43m*\u001b[39;49m\u001b[43mp_jit\u001b[49m\u001b[43m)\u001b[49m\n\u001b[1;32m    205\u001b[0m \u001b[38;5;28;01melif\u001b[39;00m \u001b[38;5;28misinstance\u001b[39m(ufl_object, ufl\u001b[38;5;241m.\u001b[39mFiniteElementBase):\n\u001b[1;32m    206\u001b[0m     r \u001b[38;5;241m=\u001b[39m ffcx\u001b[38;5;241m.\u001b[39mcodegeneration\u001b[38;5;241m.\u001b[39mjit\u001b[38;5;241m.\u001b[39mcompile_elements([ufl_object], parameters\u001b[38;5;241m=\u001b[39mp_ffcx, \u001b[38;5;241m*\u001b[39m\u001b[38;5;241m*\u001b[39mp_jit)\n",
      "File \u001b[0;32m/usr/local/lib/python3.9/dist-packages/ffcx/codegeneration/jit.py:168\u001b[0m, in \u001b[0;36mcompile_forms\u001b[0;34m(forms, parameters, cache_dir, timeout, cffi_extra_compile_args, cffi_verbose, cffi_debug, cffi_libraries)\u001b[0m\n\u001b[1;32m    165\u001b[0m     \u001b[38;5;28;01mfor\u001b[39;00m name \u001b[38;5;129;01min\u001b[39;00m form_names:\n\u001b[1;32m    166\u001b[0m         decl \u001b[38;5;241m+\u001b[39m\u001b[38;5;241m=\u001b[39m form_template\u001b[38;5;241m.\u001b[39mformat(name\u001b[38;5;241m=\u001b[39mname)\n\u001b[0;32m--> 168\u001b[0m     impl \u001b[38;5;241m=\u001b[39m \u001b[43m_compile_objects\u001b[49m\u001b[43m(\u001b[49m\u001b[43mdecl\u001b[49m\u001b[43m,\u001b[49m\u001b[43m \u001b[49m\u001b[43mforms\u001b[49m\u001b[43m,\u001b[49m\u001b[43m \u001b[49m\u001b[43mform_names\u001b[49m\u001b[43m,\u001b[49m\u001b[43m \u001b[49m\u001b[43mmodule_name\u001b[49m\u001b[43m,\u001b[49m\u001b[43m \u001b[49m\u001b[43mp\u001b[49m\u001b[43m,\u001b[49m\u001b[43m \u001b[49m\u001b[43mcache_dir\u001b[49m\u001b[43m,\u001b[49m\n\u001b[1;32m    169\u001b[0m \u001b[43m                            \u001b[49m\u001b[43mcffi_extra_compile_args\u001b[49m\u001b[43m,\u001b[49m\u001b[43m \u001b[49m\u001b[43mcffi_verbose\u001b[49m\u001b[43m,\u001b[49m\u001b[43m \u001b[49m\u001b[43mcffi_debug\u001b[49m\u001b[43m,\u001b[49m\u001b[43m \u001b[49m\u001b[43mcffi_libraries\u001b[49m\u001b[43m)\u001b[49m\n\u001b[1;32m    170\u001b[0m \u001b[38;5;28;01mexcept\u001b[39;00m \u001b[38;5;167;01mException\u001b[39;00m:\n\u001b[1;32m    171\u001b[0m     \u001b[38;5;66;03m# remove c file so that it will not timeout next time\u001b[39;00m\n\u001b[1;32m    172\u001b[0m     c_filename \u001b[38;5;241m=\u001b[39m cache_dir\u001b[38;5;241m.\u001b[39mjoinpath(module_name \u001b[38;5;241m+\u001b[39m \u001b[38;5;124m\"\u001b[39m\u001b[38;5;124m.c\u001b[39m\u001b[38;5;124m\"\u001b[39m)\n",
      "File \u001b[0;32m/usr/local/lib/python3.9/dist-packages/ffcx/codegeneration/jit.py:232\u001b[0m, in \u001b[0;36m_compile_objects\u001b[0;34m(decl, ufl_objects, object_names, module_name, parameters, cache_dir, cffi_extra_compile_args, cffi_verbose, cffi_debug, cffi_libraries)\u001b[0m\n\u001b[1;32m    228\u001b[0m \u001b[38;5;28;01mimport\u001b[39;00m \u001b[38;5;21;01mffcx\u001b[39;00m\u001b[38;5;21;01m.\u001b[39;00m\u001b[38;5;21;01mcompiler\u001b[39;00m\n\u001b[1;32m    230\u001b[0m \u001b[38;5;66;03m# JIT uses module_name as prefix, which is needed to make names of all struct/function\u001b[39;00m\n\u001b[1;32m    231\u001b[0m \u001b[38;5;66;03m# unique across modules\u001b[39;00m\n\u001b[0;32m--> 232\u001b[0m _, code_body \u001b[38;5;241m=\u001b[39m \u001b[43mffcx\u001b[49m\u001b[38;5;241;43m.\u001b[39;49m\u001b[43mcompiler\u001b[49m\u001b[38;5;241;43m.\u001b[39;49m\u001b[43mcompile_ufl_objects\u001b[49m\u001b[43m(\u001b[49m\u001b[43mufl_objects\u001b[49m\u001b[43m,\u001b[49m\u001b[43m \u001b[49m\u001b[43mprefix\u001b[49m\u001b[38;5;241;43m=\u001b[39;49m\u001b[43mmodule_name\u001b[49m\u001b[43m,\u001b[49m\u001b[43m \u001b[49m\u001b[43mparameters\u001b[49m\u001b[38;5;241;43m=\u001b[39;49m\u001b[43mparameters\u001b[49m\u001b[43m)\u001b[49m\n\u001b[1;32m    234\u001b[0m ffibuilder \u001b[38;5;241m=\u001b[39m cffi\u001b[38;5;241m.\u001b[39mFFI()\n\u001b[1;32m    235\u001b[0m ffibuilder\u001b[38;5;241m.\u001b[39mset_source(module_name, code_body, include_dirs\u001b[38;5;241m=\u001b[39m[ffcx\u001b[38;5;241m.\u001b[39mcodegeneration\u001b[38;5;241m.\u001b[39mget_include_path()],\n\u001b[1;32m    236\u001b[0m                       extra_compile_args\u001b[38;5;241m=\u001b[39mcffi_extra_compile_args, libraries\u001b[38;5;241m=\u001b[39mcffi_libraries)\n",
      "File \u001b[0;32m/usr/local/lib/python3.9/dist-packages/ffcx/compiler.py:98\u001b[0m, in \u001b[0;36mcompile_ufl_objects\u001b[0;34m(ufl_objects, object_names, prefix, parameters, visualise)\u001b[0m\n\u001b[1;32m     96\u001b[0m \u001b[38;5;66;03m# Stage 1: analysis\u001b[39;00m\n\u001b[1;32m     97\u001b[0m cpu_time \u001b[38;5;241m=\u001b[39m time()\n\u001b[0;32m---> 98\u001b[0m analysis \u001b[38;5;241m=\u001b[39m \u001b[43manalyze_ufl_objects\u001b[49m\u001b[43m(\u001b[49m\u001b[43mufl_objects\u001b[49m\u001b[43m,\u001b[49m\u001b[43m \u001b[49m\u001b[43mparameters\u001b[49m\u001b[43m)\u001b[49m\n\u001b[1;32m     99\u001b[0m _print_timing(\u001b[38;5;241m1\u001b[39m, time() \u001b[38;5;241m-\u001b[39m cpu_time)\n\u001b[1;32m    101\u001b[0m \u001b[38;5;66;03m# Stage 2: intermediate representation\u001b[39;00m\n",
      "File \u001b[0;32m/usr/local/lib/python3.9/dist-packages/ffcx/analysis.py:75\u001b[0m, in \u001b[0;36manalyze_ufl_objects\u001b[0;34m(ufl_objects, parameters)\u001b[0m\n\u001b[1;32m     72\u001b[0m     \u001b[38;5;28;01melse\u001b[39;00m:\n\u001b[1;32m     73\u001b[0m         \u001b[38;5;28;01mraise\u001b[39;00m \u001b[38;5;167;01mTypeError\u001b[39;00m(\u001b[38;5;124m\"\u001b[39m\u001b[38;5;124mUFL objects not recognised.\u001b[39m\u001b[38;5;124m\"\u001b[39m)\n\u001b[0;32m---> 75\u001b[0m form_data \u001b[38;5;241m=\u001b[39m \u001b[38;5;28;43mtuple\u001b[39;49m\u001b[43m(\u001b[49m\u001b[43m_analyze_form\u001b[49m\u001b[43m(\u001b[49m\u001b[43mform\u001b[49m\u001b[43m,\u001b[49m\u001b[43m \u001b[49m\u001b[43mparameters\u001b[49m\u001b[43m)\u001b[49m\u001b[43m \u001b[49m\u001b[38;5;28;43;01mfor\u001b[39;49;00m\u001b[43m \u001b[49m\u001b[43mform\u001b[49m\u001b[43m \u001b[49m\u001b[38;5;129;43;01min\u001b[39;49;00m\u001b[43m \u001b[49m\u001b[43mforms\u001b[49m\u001b[43m)\u001b[49m\n\u001b[1;32m     76\u001b[0m \u001b[38;5;28;01mfor\u001b[39;00m data \u001b[38;5;129;01min\u001b[39;00m form_data:\n\u001b[1;32m     77\u001b[0m     elements \u001b[38;5;241m+\u001b[39m\u001b[38;5;241m=\u001b[39m data\u001b[38;5;241m.\u001b[39munique_sub_elements\n",
      "File \u001b[0;32m/usr/local/lib/python3.9/dist-packages/ffcx/analysis.py:75\u001b[0m, in \u001b[0;36m<genexpr>\u001b[0;34m(.0)\u001b[0m\n\u001b[1;32m     72\u001b[0m     \u001b[38;5;28;01melse\u001b[39;00m:\n\u001b[1;32m     73\u001b[0m         \u001b[38;5;28;01mraise\u001b[39;00m \u001b[38;5;167;01mTypeError\u001b[39;00m(\u001b[38;5;124m\"\u001b[39m\u001b[38;5;124mUFL objects not recognised.\u001b[39m\u001b[38;5;124m\"\u001b[39m)\n\u001b[0;32m---> 75\u001b[0m form_data \u001b[38;5;241m=\u001b[39m \u001b[38;5;28mtuple\u001b[39m(\u001b[43m_analyze_form\u001b[49m\u001b[43m(\u001b[49m\u001b[43mform\u001b[49m\u001b[43m,\u001b[49m\u001b[43m \u001b[49m\u001b[43mparameters\u001b[49m\u001b[43m)\u001b[49m \u001b[38;5;28;01mfor\u001b[39;00m form \u001b[38;5;129;01min\u001b[39;00m forms)\n\u001b[1;32m     76\u001b[0m \u001b[38;5;28;01mfor\u001b[39;00m data \u001b[38;5;129;01min\u001b[39;00m form_data:\n\u001b[1;32m     77\u001b[0m     elements \u001b[38;5;241m+\u001b[39m\u001b[38;5;241m=\u001b[39m data\u001b[38;5;241m.\u001b[39munique_sub_elements\n",
      "File \u001b[0;32m/usr/local/lib/python3.9/dist-packages/ffcx/analysis.py:156\u001b[0m, in \u001b[0;36m_analyze_form\u001b[0;34m(form, parameters)\u001b[0m\n\u001b[1;32m    153\u001b[0m complex_mode \u001b[38;5;241m=\u001b[39m \u001b[38;5;124m\"\u001b[39m\u001b[38;5;124m_Complex\u001b[39m\u001b[38;5;124m\"\u001b[39m \u001b[38;5;129;01min\u001b[39;00m parameters[\u001b[38;5;124m\"\u001b[39m\u001b[38;5;124mscalar_type\u001b[39m\u001b[38;5;124m\"\u001b[39m]\n\u001b[1;32m    155\u001b[0m \u001b[38;5;66;03m# Compute form metadata\u001b[39;00m\n\u001b[0;32m--> 156\u001b[0m form_data \u001b[38;5;241m=\u001b[39m \u001b[43mufl\u001b[49m\u001b[38;5;241;43m.\u001b[39;49m\u001b[43malgorithms\u001b[49m\u001b[38;5;241;43m.\u001b[39;49m\u001b[43mcompute_form_data\u001b[49m\u001b[43m(\u001b[49m\n\u001b[1;32m    157\u001b[0m \u001b[43m    \u001b[49m\u001b[43mform\u001b[49m\u001b[43m,\u001b[49m\n\u001b[1;32m    158\u001b[0m \u001b[43m    \u001b[49m\u001b[43mdo_apply_function_pullbacks\u001b[49m\u001b[38;5;241;43m=\u001b[39;49m\u001b[38;5;28;43;01mTrue\u001b[39;49;00m\u001b[43m,\u001b[49m\n\u001b[1;32m    159\u001b[0m \u001b[43m    \u001b[49m\u001b[43mdo_apply_integral_scaling\u001b[49m\u001b[38;5;241;43m=\u001b[39;49m\u001b[38;5;28;43;01mTrue\u001b[39;49;00m\u001b[43m,\u001b[49m\n\u001b[1;32m    160\u001b[0m \u001b[43m    \u001b[49m\u001b[43mdo_apply_geometry_lowering\u001b[49m\u001b[38;5;241;43m=\u001b[39;49m\u001b[38;5;28;43;01mTrue\u001b[39;49;00m\u001b[43m,\u001b[49m\n\u001b[1;32m    161\u001b[0m \u001b[43m    \u001b[49m\u001b[43mpreserve_geometry_types\u001b[49m\u001b[38;5;241;43m=\u001b[39;49m\u001b[43m(\u001b[49m\u001b[43mufl\u001b[49m\u001b[38;5;241;43m.\u001b[39;49m\u001b[43mclasses\u001b[49m\u001b[38;5;241;43m.\u001b[39;49m\u001b[43mJacobian\u001b[49m\u001b[43m,\u001b[49m\u001b[43m)\u001b[49m\u001b[43m,\u001b[49m\n\u001b[1;32m    162\u001b[0m \u001b[43m    \u001b[49m\u001b[43mdo_apply_restrictions\u001b[49m\u001b[38;5;241;43m=\u001b[39;49m\u001b[38;5;28;43;01mTrue\u001b[39;49;00m\u001b[43m,\u001b[49m\n\u001b[1;32m    163\u001b[0m \u001b[43m    \u001b[49m\u001b[43mdo_append_everywhere_integrals\u001b[49m\u001b[38;5;241;43m=\u001b[39;49m\u001b[38;5;28;43;01mFalse\u001b[39;49;00m\u001b[43m,\u001b[49m\u001b[43m  \u001b[49m\u001b[38;5;66;43;03m# do not add dx integrals to dx(i) in UFL\u001b[39;49;00m\n\u001b[1;32m    164\u001b[0m \u001b[43m    \u001b[49m\u001b[43mcomplex_mode\u001b[49m\u001b[38;5;241;43m=\u001b[39;49m\u001b[43mcomplex_mode\u001b[49m\u001b[43m)\u001b[49m\n\u001b[1;32m    166\u001b[0m \u001b[38;5;66;03m# Determine unique quadrature degree, quadrature scheme and\u001b[39;00m\n\u001b[1;32m    167\u001b[0m \u001b[38;5;66;03m# precision per each integral data\u001b[39;00m\n\u001b[1;32m    168\u001b[0m \u001b[38;5;28;01mfor\u001b[39;00m \u001b[38;5;28mid\u001b[39m, integral_data \u001b[38;5;129;01min\u001b[39;00m \u001b[38;5;28menumerate\u001b[39m(form_data\u001b[38;5;241m.\u001b[39mintegral_data):\n\u001b[1;32m    169\u001b[0m     \u001b[38;5;66;03m# Iterate through groups of integral data. There is one integral\u001b[39;00m\n\u001b[1;32m    170\u001b[0m     \u001b[38;5;66;03m# data for all integrals with same domain, itype, subdomain_id\u001b[39;00m\n\u001b[0;32m   (...)\u001b[0m\n\u001b[1;32m    176\u001b[0m \n\u001b[1;32m    177\u001b[0m     \u001b[38;5;66;03m# Extract precision\u001b[39;00m\n",
      "File \u001b[0;32m/usr/local/lib/python3.9/dist-packages/ufl/algorithms/compute_form_data.py:407\u001b[0m, in \u001b[0;36mcompute_form_data\u001b[0;34m(form, do_apply_function_pullbacks, do_apply_integral_scaling, do_apply_geometry_lowering, preserve_geometry_types, do_apply_default_restrictions, do_apply_restrictions, do_estimate_degrees, do_append_everywhere_integrals, complex_mode)\u001b[0m\n\u001b[1;32m    403\u001b[0m \u001b[38;5;66;03m# TODO: This is a very expensive check... Replace with something\u001b[39;00m\n\u001b[1;32m    404\u001b[0m \u001b[38;5;66;03m# faster!\u001b[39;00m\n\u001b[1;32m    405\u001b[0m preprocessed_form \u001b[38;5;241m=\u001b[39m reconstruct_form_from_integral_data(\u001b[38;5;28mself\u001b[39m\u001b[38;5;241m.\u001b[39mintegral_data)\n\u001b[0;32m--> 407\u001b[0m \u001b[43mcheck_form_arity\u001b[49m\u001b[43m(\u001b[49m\u001b[43mpreprocessed_form\u001b[49m\u001b[43m,\u001b[49m\u001b[43m \u001b[49m\u001b[38;5;28;43mself\u001b[39;49m\u001b[38;5;241;43m.\u001b[39;49m\u001b[43moriginal_form\u001b[49m\u001b[38;5;241;43m.\u001b[39;49m\u001b[43marguments\u001b[49m\u001b[43m(\u001b[49m\u001b[43m)\u001b[49m\u001b[43m,\u001b[49m\u001b[43m \u001b[49m\u001b[43mcomplex_mode\u001b[49m\u001b[43m)\u001b[49m  \u001b[38;5;66;03m# Currently testing how fast this is\u001b[39;00m\n\u001b[1;32m    409\u001b[0m \u001b[38;5;66;03m# TODO: This member is used by unit tests, change the tests to\u001b[39;00m\n\u001b[1;32m    410\u001b[0m \u001b[38;5;66;03m# remove this!\u001b[39;00m\n\u001b[1;32m    411\u001b[0m \u001b[38;5;28mself\u001b[39m\u001b[38;5;241m.\u001b[39mpreprocessed_form \u001b[38;5;241m=\u001b[39m preprocessed_form\n",
      "File \u001b[0;32m/usr/local/lib/python3.9/dist-packages/ufl/algorithms/check_arities.py:177\u001b[0m, in \u001b[0;36mcheck_form_arity\u001b[0;34m(form, arguments, complex_mode)\u001b[0m\n\u001b[1;32m    175\u001b[0m \u001b[38;5;28;01mdef\u001b[39;00m \u001b[38;5;21mcheck_form_arity\u001b[39m(form, arguments, complex_mode\u001b[38;5;241m=\u001b[39m\u001b[38;5;28;01mFalse\u001b[39;00m):\n\u001b[1;32m    176\u001b[0m     \u001b[38;5;28;01mfor\u001b[39;00m itg \u001b[38;5;129;01min\u001b[39;00m form\u001b[38;5;241m.\u001b[39mintegrals():\n\u001b[0;32m--> 177\u001b[0m         \u001b[43mcheck_integrand_arity\u001b[49m\u001b[43m(\u001b[49m\u001b[43mitg\u001b[49m\u001b[38;5;241;43m.\u001b[39;49m\u001b[43mintegrand\u001b[49m\u001b[43m(\u001b[49m\u001b[43m)\u001b[49m\u001b[43m,\u001b[49m\u001b[43m \u001b[49m\u001b[43marguments\u001b[49m\u001b[43m,\u001b[49m\u001b[43m \u001b[49m\u001b[43mcomplex_mode\u001b[49m\u001b[43m)\u001b[49m\n",
      "File \u001b[0;32m/usr/local/lib/python3.9/dist-packages/ufl/algorithms/check_arities.py:159\u001b[0m, in \u001b[0;36mcheck_integrand_arity\u001b[0;34m(expr, arguments, complex_mode)\u001b[0m\n\u001b[1;32m    156\u001b[0m arguments \u001b[38;5;241m=\u001b[39m \u001b[38;5;28mtuple\u001b[39m(\u001b[38;5;28msorted\u001b[39m(\u001b[38;5;28mset\u001b[39m(arguments),\n\u001b[1;32m    157\u001b[0m                          key\u001b[38;5;241m=\u001b[39m\u001b[38;5;28;01mlambda\u001b[39;00m x: (x\u001b[38;5;241m.\u001b[39mnumber(), x\u001b[38;5;241m.\u001b[39mpart())))\n\u001b[1;32m    158\u001b[0m rules \u001b[38;5;241m=\u001b[39m ArityChecker(arguments)\n\u001b[0;32m--> 159\u001b[0m arg_tuples \u001b[38;5;241m=\u001b[39m \u001b[43mmap_expr_dag\u001b[49m\u001b[43m(\u001b[49m\u001b[43mrules\u001b[49m\u001b[43m,\u001b[49m\u001b[43m \u001b[49m\u001b[43mexpr\u001b[49m\u001b[43m,\u001b[49m\u001b[43m \u001b[49m\u001b[43mcompress\u001b[49m\u001b[38;5;241;43m=\u001b[39;49m\u001b[38;5;28;43;01mFalse\u001b[39;49;00m\u001b[43m)\u001b[49m\n\u001b[1;32m    160\u001b[0m args \u001b[38;5;241m=\u001b[39m \u001b[38;5;28mtuple\u001b[39m(a[\u001b[38;5;241m0\u001b[39m] \u001b[38;5;28;01mfor\u001b[39;00m a \u001b[38;5;129;01min\u001b[39;00m arg_tuples)\n\u001b[1;32m    161\u001b[0m \u001b[38;5;28;01mif\u001b[39;00m args \u001b[38;5;241m!=\u001b[39m arguments:\n",
      "File \u001b[0;32m/usr/local/lib/python3.9/dist-packages/ufl/corealg/map_dag.py:36\u001b[0m, in \u001b[0;36mmap_expr_dag\u001b[0;34m(function, expression, compress, vcache, rcache)\u001b[0m\n\u001b[1;32m     17\u001b[0m \u001b[38;5;28;01mdef\u001b[39;00m \u001b[38;5;21mmap_expr_dag\u001b[39m(function, expression,\n\u001b[1;32m     18\u001b[0m                  compress\u001b[38;5;241m=\u001b[39m\u001b[38;5;28;01mTrue\u001b[39;00m,\n\u001b[1;32m     19\u001b[0m                  vcache\u001b[38;5;241m=\u001b[39m\u001b[38;5;28;01mNone\u001b[39;00m,\n\u001b[1;32m     20\u001b[0m                  rcache\u001b[38;5;241m=\u001b[39m\u001b[38;5;28;01mNone\u001b[39;00m):\n\u001b[1;32m     21\u001b[0m     \u001b[38;5;124;03m\"\"\"Apply a function to each subexpression node in an expression DAG.\u001b[39;00m\n\u001b[1;32m     22\u001b[0m \n\u001b[1;32m     23\u001b[0m \u001b[38;5;124;03m    If *compress* is ``True`` (default) the output object from\u001b[39;00m\n\u001b[0;32m   (...)\u001b[0m\n\u001b[1;32m     34\u001b[0m \u001b[38;5;124;03m    Return the result of the final function call.\u001b[39;00m\n\u001b[1;32m     35\u001b[0m \u001b[38;5;124;03m    \"\"\"\u001b[39;00m\n\u001b[0;32m---> 36\u001b[0m     result, \u001b[38;5;241m=\u001b[39m \u001b[43mmap_expr_dags\u001b[49m\u001b[43m(\u001b[49m\u001b[43mfunction\u001b[49m\u001b[43m,\u001b[49m\u001b[43m \u001b[49m\u001b[43m[\u001b[49m\u001b[43mexpression\u001b[49m\u001b[43m]\u001b[49m\u001b[43m,\u001b[49m\u001b[43m \u001b[49m\u001b[43mcompress\u001b[49m\u001b[38;5;241;43m=\u001b[39;49m\u001b[43mcompress\u001b[49m\u001b[43m,\u001b[49m\n\u001b[1;32m     37\u001b[0m \u001b[43m                            \u001b[49m\u001b[43mvcache\u001b[49m\u001b[38;5;241;43m=\u001b[39;49m\u001b[43mvcache\u001b[49m\u001b[43m,\u001b[49m\n\u001b[1;32m     38\u001b[0m \u001b[43m                            \u001b[49m\u001b[43mrcache\u001b[49m\u001b[38;5;241;43m=\u001b[39;49m\u001b[43mrcache\u001b[49m\u001b[43m)\u001b[49m\n\u001b[1;32m     39\u001b[0m     \u001b[38;5;28;01mreturn\u001b[39;00m result\n",
      "File \u001b[0;32m/usr/local/lib/python3.9/dist-packages/ufl/corealg/map_dag.py:99\u001b[0m, in \u001b[0;36mmap_expr_dags\u001b[0;34m(function, expressions, compress, vcache, rcache)\u001b[0m\n\u001b[1;32m     97\u001b[0m     r \u001b[38;5;241m=\u001b[39m handlers[v\u001b[38;5;241m.\u001b[39m_ufl_typecode_](v)\n\u001b[1;32m     98\u001b[0m \u001b[38;5;28;01melse\u001b[39;00m:\n\u001b[0;32m---> 99\u001b[0m     r \u001b[38;5;241m=\u001b[39m \u001b[43mhandlers\u001b[49m\u001b[43m[\u001b[49m\u001b[43mv\u001b[49m\u001b[38;5;241;43m.\u001b[39;49m\u001b[43m_ufl_typecode_\u001b[49m\u001b[43m]\u001b[49m\u001b[43m(\u001b[49m\u001b[43mv\u001b[49m\u001b[43m,\u001b[49m\u001b[43m \u001b[49m\u001b[38;5;241;43m*\u001b[39;49m\u001b[43m[\u001b[49m\u001b[43mvcache\u001b[49m\u001b[43m[\u001b[49m\u001b[43mu\u001b[49m\u001b[43m]\u001b[49m\u001b[43m \u001b[49m\u001b[38;5;28;43;01mfor\u001b[39;49;00m\u001b[43m \u001b[49m\u001b[43mu\u001b[49m\u001b[43m \u001b[49m\u001b[38;5;129;43;01min\u001b[39;49;00m\u001b[43m \u001b[49m\u001b[43mv\u001b[49m\u001b[38;5;241;43m.\u001b[39;49m\u001b[43mufl_operands\u001b[49m\u001b[43m]\u001b[49m\u001b[43m)\u001b[49m\n\u001b[1;32m    101\u001b[0m \u001b[38;5;66;03m# Optionally check if r is in rcache, a memory optimization\u001b[39;00m\n\u001b[1;32m    102\u001b[0m \u001b[38;5;66;03m# to be able to keep representation of result compact\u001b[39;00m\n\u001b[1;32m    103\u001b[0m \u001b[38;5;28;01mif\u001b[39;00m compress:\n",
      "File \u001b[0;32m/usr/local/lib/python3.9/dist-packages/ufl/algorithms/check_arities.py:48\u001b[0m, in \u001b[0;36mArityChecker.sum\u001b[0;34m(self, o, a, b)\u001b[0m\n\u001b[1;32m     46\u001b[0m \u001b[38;5;28;01mdef\u001b[39;00m \u001b[38;5;21msum\u001b[39m(\u001b[38;5;28mself\u001b[39m, o, a, b):\n\u001b[1;32m     47\u001b[0m     \u001b[38;5;28;01mif\u001b[39;00m a \u001b[38;5;241m!=\u001b[39m b:\n\u001b[0;32m---> 48\u001b[0m         \u001b[38;5;28;01mraise\u001b[39;00m ArityMismatch(\u001b[38;5;124m\"\u001b[39m\u001b[38;5;124mAdding expressions with non-matching form arguments \u001b[39m\u001b[38;5;132;01m{0}\u001b[39;00m\u001b[38;5;124m vs \u001b[39m\u001b[38;5;132;01m{1}\u001b[39;00m\u001b[38;5;124m.\u001b[39m\u001b[38;5;124m\"\u001b[39m\u001b[38;5;241m.\u001b[39mformat(_afmt(a), _afmt(b)))\n\u001b[1;32m     49\u001b[0m     \u001b[38;5;28;01mreturn\u001b[39;00m a\n",
      "\u001b[0;31mArityMismatch\u001b[0m: Adding expressions with non-matching form arguments ('v_0',) vs ('v_0', 'v_1')."
     ]
    }
   ],
   "source": [
    "\n",
    "# Define initial value\n",
    "# u_n = interpolate(u_D, V)\n",
    "#u_n = project(u_D, V)\n",
    "\n",
    "# Define variational problem\n",
    "# u = TrialFunction(V)\n",
    "# v = TestFunction(V)\n",
    "f = fem.Constant(domain,beta - 2 - 2*alpha)\n",
    "\n",
    "u, v = ufl.TrialFunction(V), ufl.TestFunction(V)\n",
    "\n",
    "\n",
    "# a = u*v*ufl.dx - u_n*v*ufl.dx \n",
    "# L = (ufl.inner(f,v) - ufl.dot(ufl.grad(u), ufl.grad(v)) )* dt * ufl.dx\n",
    "F = u*v*ufl.dx + dt*ufl.dot(ufl.grad(u), ufl.grad(v))*ufl.dx - (u_n + dt*f)*v*ufl.dx\n",
    "\n",
    "problem = fem.petsc.NonlinearProblem(F, u, [bc])\n",
    "\n",
    "# problem = fem.petsc.LinearProblem(a, L, bcs=[bc], petsc_options={\"ksp_type\": \"preonly\", \"pc_type\": \"lu\"})\n",
    "\n",
    "# solve the adjoint vector\n"
   ]
  },
  {
   "cell_type": "markdown",
   "metadata": {},
   "source": [
    "### Time stepping routine"
   ]
  },
  {
   "cell_type": "code",
   "execution_count": 36,
   "metadata": {},
   "outputs": [
    {
     "ename": "TypeError",
     "evalue": "__init__() missing 1 required positional argument: 'L'",
     "output_type": "error",
     "traceback": [
      "\u001b[0;31m---------------------------------------------------------------------------\u001b[0m",
      "\u001b[0;31mTypeError\u001b[0m                                 Traceback (most recent call last)",
      "Input \u001b[0;32mIn [36]\u001b[0m, in \u001b[0;36m<cell line: 4>\u001b[0;34m()\u001b[0m\n\u001b[1;32m      2\u001b[0m u \u001b[38;5;241m=\u001b[39m fem\u001b[38;5;241m.\u001b[39mFunction(V)\n\u001b[1;32m      3\u001b[0m t \u001b[38;5;241m=\u001b[39m \u001b[38;5;241m0\u001b[39m\n\u001b[0;32m----> 4\u001b[0m problem \u001b[38;5;241m=\u001b[39m \u001b[43mfem\u001b[49m\u001b[38;5;241;43m.\u001b[39;49m\u001b[43mpetsc\u001b[49m\u001b[38;5;241;43m.\u001b[39;49m\u001b[43mLinearProblem\u001b[49m\u001b[43m(\u001b[49m\u001b[43mF\u001b[49m\u001b[43m \u001b[49m\u001b[38;5;241;43m==\u001b[39;49m\u001b[43m \u001b[49m\u001b[38;5;241;43m0\u001b[39;49m\u001b[43m,\u001b[49m\u001b[43m \u001b[49m\u001b[43mbcs\u001b[49m\u001b[38;5;241;43m=\u001b[39;49m\u001b[43m[\u001b[49m\u001b[43mbc\u001b[49m\u001b[43m]\u001b[49m\u001b[43m,\u001b[49m\u001b[43m \u001b[49m\u001b[43mpetsc_options\u001b[49m\u001b[38;5;241;43m=\u001b[39;49m\u001b[43m{\u001b[49m\u001b[38;5;124;43m\"\u001b[39;49m\u001b[38;5;124;43mksp_type\u001b[39;49m\u001b[38;5;124;43m\"\u001b[39;49m\u001b[43m:\u001b[49m\u001b[43m \u001b[49m\u001b[38;5;124;43m\"\u001b[39;49m\u001b[38;5;124;43mpreonly\u001b[39;49m\u001b[38;5;124;43m\"\u001b[39;49m\u001b[43m,\u001b[49m\u001b[43m \u001b[49m\u001b[38;5;124;43m\"\u001b[39;49m\u001b[38;5;124;43mpc_type\u001b[39;49m\u001b[38;5;124;43m\"\u001b[39;49m\u001b[43m:\u001b[49m\u001b[43m \u001b[49m\u001b[38;5;124;43m\"\u001b[39;49m\u001b[38;5;124;43mlu\u001b[39;49m\u001b[38;5;124;43m\"\u001b[39;49m\u001b[43m}\u001b[49m\u001b[43m)\u001b[49m\n\u001b[1;32m      5\u001b[0m \u001b[38;5;28;01mfor\u001b[39;00m n \u001b[38;5;129;01min\u001b[39;00m \u001b[38;5;28mrange\u001b[39m(num_steps):\n\u001b[1;32m      6\u001b[0m \n\u001b[1;32m      7\u001b[0m     \u001b[38;5;66;03m# Update current time\u001b[39;00m\n\u001b[1;32m      8\u001b[0m     t \u001b[38;5;241m+\u001b[39m\u001b[38;5;241m=\u001b[39m dt\n",
      "\u001b[0;31mTypeError\u001b[0m: __init__() missing 1 required positional argument: 'L'"
     ]
    }
   ],
   "source": [
    "# Time-stepping\n",
    "u = fem.Function(V)\n",
    "t = 0\n",
    "# problem = fem.petsc.LinearProblem(F == 0, bcs=[bc], petsc_options={\"ksp_type\": \"preonly\", \"pc_type\": \"lu\"})\n",
    "for n in range(num_steps):\n",
    "\n",
    "    # Update current time\n",
    "    t += dt\n",
    "    u_D.t = t\n",
    "\n",
    "    # Compute solution\n",
    "    # solve(a == L, u, bc)\n",
    "\n",
    "    u = problem.solve()\n",
    "\n",
    "    # Plot solution\n",
    "    plot(u)\n",
    "\n",
    "    # Compute error at vertices\n",
    "    u_e = interpolate(u_D, V)\n",
    "    error = np.abs(u_e.vector() - u.vector()).max()\n",
    "    print('t = %.2f: error = %.3g' % (t, error))\n",
    "\n",
    "    # Update previous solution\n",
    "    u_n.assign(u)\n"
   ]
  },
  {
   "cell_type": "code",
   "execution_count": null,
   "metadata": {},
   "outputs": [],
   "source": []
  }
 ],
 "metadata": {
  "kernelspec": {
   "display_name": "Python 3 (ipykernel)",
   "language": "python",
   "name": "python3"
  },
  "language_info": {
   "codemirror_mode": {
    "name": "ipython",
    "version": 3
   },
   "file_extension": ".py",
   "mimetype": "text/x-python",
   "name": "python",
   "nbconvert_exporter": "python",
   "pygments_lexer": "ipython3",
   "version": "3.9.7"
  }
 },
 "nbformat": 4,
 "nbformat_minor": 4
}
