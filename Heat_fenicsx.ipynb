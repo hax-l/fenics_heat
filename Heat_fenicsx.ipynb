{
 "cells": [
  {
   "cell_type": "code",
   "execution_count": 46,
   "id": "28ed1e87-73e9-4197-865d-1086b95ec0df",
   "metadata": {},
   "outputs": [],
   "source": [
    "import sys\n",
    "sys.path.append(\"/vtk/build/\") #"
   ]
  },
  {
   "cell_type": "code",
   "execution_count": 47,
   "id": "4966a74f-10df-4dcc-bf46-02d4d84b5553",
   "metadata": {},
   "outputs": [],
   "source": [
    "import numpy as np\n",
    "\n",
    "from mpi4py import MPI\n",
    "from petsc4py import PETSc\n",
    "\n",
    "from dolfinx import fem, mesh, io, plot\n",
    "\n",
    "# Define temporal parameters\n",
    "t = 0 # Start time\n",
    "T = 2.0 # Final time\n",
    "num_steps = 61     \n",
    "dt = T / num_steps # time step size\n",
    "\n",
    "# Define mesh\n",
    "nx, ny = 50, 50\n",
    "domain = mesh.create_rectangle(MPI.COMM_WORLD, [np.array([-2, -2]), np.array([2, 2])], \n",
    "                               [nx, ny], mesh.CellType.triangle)\n",
    "V = fem.FunctionSpace(domain, (\"CG\", 1))"
   ]
  },
  {
   "cell_type": "code",
   "execution_count": 48,
   "id": "4aaf38e4-90c6-4c61-ac17-72ecc630dc3d",
   "metadata": {},
   "outputs": [],
   "source": [
    "# Create initial condition\n",
    "alpha = 6          # parameter alpha\n",
    "beta = 1.2         # parameter beta\n",
    "def initial_condition(x, t=0):\n",
    "    return 1 + x[0]*x[0] + alpha*x[1]*x[1] + beta*t\n",
    "    # return np.exp(-a*(x[0]**2+x[1]**2))\n",
    "u_n = fem.Function(V)\n",
    "u_n.name = \"u_n\"\n",
    "u_n.interpolate(initial_condition)\n",
    "\n",
    "# Create boundary condition\n",
    "fdim = domain.topology.dim - 1\n",
    "boundary_facets = mesh.locate_entities_boundary(\n",
    "    domain, fdim, lambda x: np.full(x.shape[1], True, dtype=bool))\n",
    "bc = fem.dirichletbc(PETSc.ScalarType(0), fem.locate_dofs_topological(V, fdim, boundary_facets), V)"
   ]
  },
  {
   "cell_type": "code",
   "execution_count": 49,
   "id": "0eff2069-83f5-491b-b5e4-abf78d7b4b71",
   "metadata": {},
   "outputs": [],
   "source": [
    "xdmf = io.XDMFFile(domain.comm, \"heat_equation.xdmf\", \"w\")\n",
    "xdmf.write_mesh(domain)\n",
    "\n",
    "# Define solution variable, and interpolate initial solution for visualization in Paraview\n",
    "uh = fem.Function(V)\n",
    "uh.name = \"uh\"\n",
    "uh.interpolate(initial_condition)\n",
    "xdmf.write_function(uh, t)"
   ]
  },
  {
   "cell_type": "code",
   "execution_count": 50,
   "id": "3cb0394b-0e5a-4604-854e-85195a36b8c9",
   "metadata": {},
   "outputs": [],
   "source": [
    "import ufl\n",
    "u, v = ufl.TrialFunction(V), ufl.TestFunction(V)\n",
    "# f = fem.Constant(domain, PETSc.ScalarType(0))\n",
    "f = fem.Constant(domain,PETSc.ScalarType(beta - 2 - 2*alpha))\n",
    "# a = u *v * ufl.dx + dt* ufl.dot(ufl.grad(u), ufl.grad(v)) * ufl.dx \n",
    "\n",
    "a = ufl.inner(u,v)*ufl.dx + ufl.inner(ufl.grad(u), ufl.grad(v))* dt * ufl.dx\n",
    "\n",
    "L = ufl.inner((u_n + dt * f), v) * ufl.dx\n"
   ]
  },
  {
   "cell_type": "code",
   "execution_count": 51,
   "id": "acec9a73-1142-4769-8d78-a18d61c628fa",
   "metadata": {},
   "outputs": [],
   "source": [
    "bilinear_form = fem.form(a)\n",
    "linear_form = fem.form(L)"
   ]
  },
  {
   "cell_type": "code",
   "execution_count": 52,
   "id": "44747eb5-f68e-4e81-9c8b-5cd76b867ff6",
   "metadata": {},
   "outputs": [],
   "source": [
    "A = fem.petsc.assemble_matrix(bilinear_form, bcs=[bc])\n",
    "A.assemble()\n",
    "b = fem.petsc.create_vector(linear_form)"
   ]
  },
  {
   "cell_type": "code",
   "execution_count": 53,
   "id": "5ae44fe1-d20d-4120-9bb8-c9505f7692e1",
   "metadata": {},
   "outputs": [],
   "source": [
    "solver = PETSc.KSP().create(domain.comm)\n",
    "solver.setOperators(A)\n",
    "solver.setType(PETSc.KSP.Type.PREONLY)\n",
    "solver.getPC().setType(PETSc.PC.Type.LU)"
   ]
  },
  {
   "cell_type": "code",
   "execution_count": 54,
   "id": "b1ebf0cd-d779-4f7e-873f-e75d8c367ced",
   "metadata": {},
   "outputs": [
    {
     "data": {
      "application/vnd.jupyter.widget-view+json": {
       "model_id": "48a6a0c8c6df44d8ae086ccd57486c1e",
       "version_major": 2,
       "version_minor": 0
      },
      "text/plain": [
       "AppLayout(children=(VBox(children=(HTML(value='<h3>u(0)</h3>'), Dropdown(description='Colormap:', options={'Br…"
      ]
     },
     "metadata": {},
     "output_type": "display_data"
    }
   ],
   "source": [
    "import pyvista\n",
    "pyvista.set_jupyter_backend(\"ipygany\")\n",
    "\n",
    "grid = pyvista.UnstructuredGrid(*plot.create_vtk_mesh(V))\n",
    "\n",
    "def plot_function(t, uh):\n",
    "    \"\"\"\n",
    "    Create a figure of the concentration uh warped visualized in 3D at timet step t.\n",
    "    \"\"\"\n",
    "    p = pyvista.Plotter()\n",
    "    # Update point values on pyvista grid\n",
    "    grid.point_data[f\"u({t})\"] = uh.x.array.real\n",
    "    # Warp mesh by point values\n",
    "    warped = grid.warp_by_scalar(f\"u({t})\", factor=1.5)\n",
    "\n",
    "    # Add mesh to plotter and visualize in notebook or save as figure\n",
    "    actor = p.add_mesh(warped)\n",
    "    if not pyvista.OFF_SCREEN:\n",
    "       p.show()\n",
    "    else:\n",
    "        pyvista.start_xvfb()\n",
    "        figure_as_array = p.screenshot(f\"diffusion_{t:.2f}.png\")\n",
    "        # Clear plotter for next plot\n",
    "        p.remove_actor(actor)\n",
    "plot_function(0, uh)"
   ]
  },
  {
   "cell_type": "code",
   "execution_count": 56,
   "id": "db072604-9c45-4a6b-8382-d2dee92435e9",
   "metadata": {},
   "outputs": [
    {
     "data": {
      "application/vnd.jupyter.widget-view+json": {
       "model_id": "e0ca187c8f3742f4bb18b9ebac900808",
       "version_major": 2,
       "version_minor": 0
      },
      "text/plain": [
       "AppLayout(children=(VBox(children=(HTML(value='<h3>u(2.032786885245903)</h3>'), Dropdown(description='Colormap…"
      ]
     },
     "metadata": {},
     "output_type": "display_data"
    },
    {
     "data": {
      "application/vnd.jupyter.widget-view+json": {
       "model_id": "7e5d96d559c9464a9dae5f23ba2a1498",
       "version_major": 2,
       "version_minor": 0
      },
      "text/plain": [
       "AppLayout(children=(VBox(children=(HTML(value='<h3>u(2.524590163934428)</h3>'), Dropdown(description='Colormap…"
      ]
     },
     "metadata": {},
     "output_type": "display_data"
    },
    {
     "data": {
      "application/vnd.jupyter.widget-view+json": {
       "model_id": "519b8a45768042f18f39a92353184fd7",
       "version_major": 2,
       "version_minor": 0
      },
      "text/plain": [
       "AppLayout(children=(VBox(children=(HTML(value='<h3>u(3.0163934426229533)</h3>'), Dropdown(description='Colorma…"
      ]
     },
     "metadata": {},
     "output_type": "display_data"
    },
    {
     "data": {
      "application/vnd.jupyter.widget-view+json": {
       "model_id": "b321342bc18f438bb349c07edb116aeb",
       "version_major": 2,
       "version_minor": 0
      },
      "text/plain": [
       "AppLayout(children=(VBox(children=(HTML(value='<h3>u(3.5081967213114784)</h3>'), Dropdown(description='Colorma…"
      ]
     },
     "metadata": {},
     "output_type": "display_data"
    },
    {
     "data": {
      "application/vnd.jupyter.widget-view+json": {
       "model_id": "567ff4af27c84b17a0b706f8e2c69a71",
       "version_major": 2,
       "version_minor": 0
      },
      "text/plain": [
       "AppLayout(children=(VBox(children=(HTML(value='<h3>u(4.0000000000000036)</h3>'), Dropdown(description='Colorma…"
      ]
     },
     "metadata": {},
     "output_type": "display_data"
    }
   ],
   "source": [
    "for i in range(num_steps):\n",
    "    t += dt\n",
    "\n",
    "    # Update the right hand side reusing the initial vector\n",
    "    with b.localForm() as loc_b:\n",
    "        loc_b.set(0)\n",
    "    fem.petsc.assemble_vector(b, linear_form)\n",
    "    \n",
    "    # Apply Dirichlet boundary condition to the vector\n",
    "    fem.petsc.apply_lifting(b, [bilinear_form], [[bc]])\n",
    "    b.ghostUpdate(addv=PETSc.InsertMode.ADD_VALUES, mode=PETSc.ScatterMode.REVERSE)\n",
    "    fem.petsc.set_bc(b, [bc])\n",
    "\n",
    "    # Solve linear problem\n",
    "    solver.solve(b, uh.vector)\n",
    "    uh.x.scatter_forward()\n",
    "\n",
    "    # Update solution at previous time step (u_n)\n",
    "    u_n.x.array[:] = uh.x.array\n",
    "\n",
    "    # Write solution to file\n",
    "    xdmf.write_function(uh, t)\n",
    "    # Plot every 15th time step\n",
    "    if i % 15 == 0:\n",
    "        plot_function(t, uh)\n",
    "\n",
    "xdmf.close()"
   ]
  },
  {
   "cell_type": "code",
   "execution_count": null,
   "id": "bc92e287-f34e-4042-b12a-7af8d1de6ea1",
   "metadata": {},
   "outputs": [],
   "source": []
  }
 ],
 "metadata": {
  "kernelspec": {
   "display_name": "Python 3 (DOLFINx complex)",
   "language": "python",
   "name": "python3-complex"
  },
  "language_info": {
   "codemirror_mode": {
    "name": "ipython",
    "version": 3
   },
   "file_extension": ".py",
   "mimetype": "text/x-python",
   "name": "python",
   "nbconvert_exporter": "python",
   "pygments_lexer": "ipython3",
   "version": "3.9.7"
  }
 },
 "nbformat": 4,
 "nbformat_minor": 5
}
